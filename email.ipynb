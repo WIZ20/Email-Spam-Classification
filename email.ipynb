{
  "nbformat": 4,
  "nbformat_minor": 0,
  "metadata": {
    "colab": {
      "provenance": []
    },
    "kernelspec": {
      "name": "python3",
      "display_name": "Python 3"
    },
    "language_info": {
      "name": "python"
    }
  },
  "cells": [
    {
      "cell_type": "code",
      "execution_count": 16,
      "metadata": {
        "colab": {
          "base_uri": "https://localhost:8080/"
        },
        "id": "E05mFzzIxUQp",
        "outputId": "8b827591-04fa-433c-b643-ee471745fb1d"
      },
      "outputs": [
        {
          "output_type": "stream",
          "name": "stdout",
          "text": [
            "Training samples: 4458, Test samples: 1115\n"
          ]
        }
      ],
      "source": [
        "import pandas as pd\n",
        "from sklearn.model_selection import train_test_split\n",
        "\n",
        "def load_data(file_path):\n",
        "    data = pd.read_csv(file_path, encoding=\"latin-1\")\n",
        "    data = data[['Category', 'Message']]\n",
        "    data.columns = ['label', 'message']\n",
        "    data['label'] = data['label'].map({'ham': 0, 'spam': 1})\n",
        "    return data\n",
        "\n",
        "def split_data(data, test_size=0.2):\n",
        "    X = data['message']\n",
        "    y = data['label']\n",
        "    return train_test_split(X, y, test_size=test_size, random_state=42)\n",
        "\n",
        "if __name__ == \"__main__\":\n",
        "    data = load_data(\"email.csv\")\n",
        "    X_train, X_test, y_train, y_test = split_data(data)\n",
        "    print(f\"Training samples: {len(X_train)}, Test samples: {len(X_test)}\")"
      ]
    },
    {
      "cell_type": "code",
      "source": [
        "import pandas as pd\n",
        "from sklearn.model_selection import train_test_split\n",
        "from sklearn.feature_extraction.text import TfidfVectorizer\n",
        "from sklearn.naive_bayes import MultinomialNB\n",
        "from sklearn.metrics import accuracy_score, classification_report\n",
        "import joblib\n",
        "import os\n",
        "\n",
        "\n",
        "def load_data(file_path):\n",
        "    data = pd.read_csv(file_path, encoding=\"latin-1\")\n",
        "    expected_columns = ['Category', 'Message']\n",
        "    if not all(col in data.columns for col in expected_columns):\n",
        "        raise ValueError(f\"The CSV file must contain columns: {expected_columns}. Found columns: {data.columns}\")\n",
        "    data = data[['Category', 'Message']]\n",
        "    data.columns = ['label', 'message']\n",
        "    data['label'] = data['label'].map({'ham': 0, 'spam': 1})\n",
        "    return data\n",
        "\n",
        "def split_data(data, test_size=0.2):\n",
        "    X = data['message']\n",
        "    y = data['label']\n",
        "    return train_test_split(X, y, test_size=test_size, random_state=42)\n",
        "\n",
        "def train_model(X_train, y_train):\n",
        "    X_train = X_train[y_train.notna()]\n",
        "    y_train = y_train[y_train.notna()]\n",
        "\n",
        "    vectorizer = TfidfVectorizer(stop_words='english', max_features=5000)\n",
        "    X_train_vec = vectorizer.fit_transform(X_train)\n",
        "    model = MultinomialNB()\n",
        "    model.fit(X_train_vec, y_train)\n",
        "    return model, vectorizer\n",
        "\n",
        "if __name__ == \"__main__\":\n",
        "    data = load_data(\"email.csv\")\n",
        "    X_train, X_test, y_train, y_test = split_data(data)\n",
        "\n",
        "    model, vectorizer = train_model(X_train, y_train)\n",
        "\n",
        "    os.makedirs(\"model\", exist_ok=True)\n",
        "\n",
        "\n",
        "    joblib.dump(model, \"model/spam_classifier.pkl\")\n",
        "    joblib.dump(vectorizer, \"model/vectorizer.pkl\")\n",
        "\n",
        "\n",
        "    X_test_vec = vectorizer.transform(X_test)\n",
        "    y_pred = model.predict(X_test_vec)\n",
        "    print(\"Accuracy:\", accuracy_score(y_test, y_pred))\n",
        "    print(classification_report(y_test, y_pred))"
      ],
      "metadata": {
        "colab": {
          "base_uri": "https://localhost:8080/"
        },
        "id": "MxMn0VKMyXrM",
        "outputId": "880a45d2-587e-4ab7-98d7-f82851aad97c"
      },
      "execution_count": 17,
      "outputs": [
        {
          "output_type": "stream",
          "name": "stdout",
          "text": [
            "Accuracy: 0.97847533632287\n",
            "              precision    recall  f1-score   support\n",
            "\n",
            "         0.0       0.98      1.00      0.99       958\n",
            "         1.0       1.00      0.85      0.92       157\n",
            "\n",
            "    accuracy                           0.98      1115\n",
            "   macro avg       0.99      0.92      0.95      1115\n",
            "weighted avg       0.98      0.98      0.98      1115\n",
            "\n"
          ]
        }
      ]
    },
    {
      "cell_type": "code",
      "source": [
        "import joblib\n",
        "\n",
        "def predict_email(text):\n",
        "    model = joblib.load(\"model/spam_classifier.pkl\")\n",
        "    vectorizer = joblib.load(\"model/vectorizer.pkl\")\n",
        "    text_vec = vectorizer.transform([text])\n",
        "    prediction = model.predict(text_vec)\n",
        "    return \"Spam\" if prediction[0] == 1 else \"Ham\"\n",
        "\n",
        "if __name__ == \"__main__\":\n",
        "    email = input(\"Enter an email message: \")\n",
        "    print(\"Prediction:\", predict_email(email))\n"
      ],
      "metadata": {
        "colab": {
          "base_uri": "https://localhost:8080/"
        },
        "id": "JpfEqAD8yabQ",
        "outputId": "a3c32446-bdaf-41db-f83d-1c5e5aaa6ebd"
      },
      "execution_count": 18,
      "outputs": [
        {
          "output_type": "stream",
          "name": "stdout",
          "text": [
            "Enter an email message: Get a free iPhone today! Limited stock available. Click here to claim: http://getfreeiphone.com\n",
            "Prediction: Spam\n"
          ]
        }
      ]
    },
    {
      "cell_type": "code",
      "source": [
        "import joblib\n",
        "\n",
        "def predict_email(text):\n",
        "    model = joblib.load(\"model/spam_classifier.pkl\")\n",
        "    vectorizer = joblib.load(\"model/vectorizer.pkl\")\n",
        "    text_vec = vectorizer.transform([text])\n",
        "    prediction = model.predict(text_vec)\n",
        "    return \"Spam\" if prediction[0] == 1 else \"Ham\"\n",
        "\n",
        "if __name__ == \"__main__\":\n",
        "    email = input(\"Enter an email message: \")\n",
        "    print(\"Prediction:\", predict_email(email))\n"
      ],
      "metadata": {
        "colab": {
          "base_uri": "https://localhost:8080/"
        },
        "id": "FRgzeY4s6KU5",
        "outputId": "6927e626-2347-4eff-e4d2-3d1dea6c1654"
      },
      "execution_count": 15,
      "outputs": [
        {
          "output_type": "stream",
          "name": "stdout",
          "text": [
            "Enter an email message: Hi John, I hope you’re doing well. Let’s meet for coffee tomorrow at 4 PM. Let me know if that works.\n",
            "Prediction: Ham\n"
          ]
        }
      ]
    }
  ]
}